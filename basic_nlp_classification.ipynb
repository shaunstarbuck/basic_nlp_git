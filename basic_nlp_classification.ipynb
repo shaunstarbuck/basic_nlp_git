{
 "cells": [
  {
   "cell_type": "code",
   "execution_count": 2,
   "metadata": {
    "collapsed": true
   },
   "outputs": [],
   "source": [
    "import numpy as np\n",
    "import pandas as pd\n",
    "import matplotlib.pyplot as plt\n",
    "import logging\n",
    "import re"
   ]
  },
  {
   "cell_type": "code",
   "execution_count": 3,
   "metadata": {
    "collapsed": true
   },
   "outputs": [],
   "source": [
    "from sklearn.metrics  import precision_recall_fscore_support\n",
    "from sklearn.model_selection import train_test_split\n",
    "from sklearn.linear_model import LogisticRegression\n",
    "from sklearn.feature_extraction.text import CountVectorizer,TfidfVectorizer"
   ]
  },
  {
   "cell_type": "code",
   "execution_count": 4,
   "metadata": {
    "collapsed": true
   },
   "outputs": [],
   "source": [
    "#Set plots to display in jupyter notebooks\n",
    "%matplotlib inline"
   ]
  },
  {
   "cell_type": "markdown",
   "metadata": {},
   "source": [
    "## Read in the data and plot the category counts"
   ]
  },
  {
   "cell_type": "code",
   "execution_count": 5,
   "metadata": {
    "collapsed": true
   },
   "outputs": [],
   "source": [
    "#read in the huffpost article dataset (json file)\n",
    "df =  pd.read_json(\"data/news-category-dataset/News_Category_Dataset_v2.json\", lines =  True)"
   ]
  },
  {
   "cell_type": "code",
   "execution_count": 6,
   "metadata": {
    "collapsed": true
   },
   "outputs": [],
   "source": [
    "df1 =  pd.read_json(\"data/news-category-dataset/news_category_dataset.json\", lines =  True)"
   ]
  },
  {
   "cell_type": "code",
   "execution_count": 7,
   "metadata": {},
   "outputs": [
    {
     "data": {
      "text/plain": [
       "(200853, 6)"
      ]
     },
     "execution_count": 7,
     "metadata": {},
     "output_type": "execute_result"
    }
   ],
   "source": [
    "df.shape"
   ]
  },
  {
   "cell_type": "code",
   "execution_count": 8,
   "metadata": {},
   "outputs": [
    {
     "data": {
      "text/html": [
       "<div>\n",
       "<style>\n",
       "    .dataframe thead tr:only-child th {\n",
       "        text-align: right;\n",
       "    }\n",
       "\n",
       "    .dataframe thead th {\n",
       "        text-align: left;\n",
       "    }\n",
       "\n",
       "    .dataframe tbody tr th {\n",
       "        vertical-align: top;\n",
       "    }\n",
       "</style>\n",
       "<table border=\"1\" class=\"dataframe\">\n",
       "  <thead>\n",
       "    <tr style=\"text-align: right;\">\n",
       "      <th></th>\n",
       "      <th>authors</th>\n",
       "      <th>category</th>\n",
       "      <th>date</th>\n",
       "      <th>headline</th>\n",
       "      <th>link</th>\n",
       "      <th>short_description</th>\n",
       "    </tr>\n",
       "  </thead>\n",
       "  <tbody>\n",
       "    <tr>\n",
       "      <th>0</th>\n",
       "      <td>Melissa Jeltsen</td>\n",
       "      <td>CRIME</td>\n",
       "      <td>2018-05-26</td>\n",
       "      <td>There Were 2 Mass Shootings In Texas Last Week...</td>\n",
       "      <td>https://www.huffingtonpost.com/entry/texas-ama...</td>\n",
       "      <td>She left her husband. He killed their children...</td>\n",
       "    </tr>\n",
       "    <tr>\n",
       "      <th>1</th>\n",
       "      <td>Andy McDonald</td>\n",
       "      <td>ENTERTAINMENT</td>\n",
       "      <td>2018-05-26</td>\n",
       "      <td>Will Smith Joins Diplo And Nicky Jam For The 2...</td>\n",
       "      <td>https://www.huffingtonpost.com/entry/will-smit...</td>\n",
       "      <td>Of course it has a song.</td>\n",
       "    </tr>\n",
       "    <tr>\n",
       "      <th>2</th>\n",
       "      <td>Ron Dicker</td>\n",
       "      <td>ENTERTAINMENT</td>\n",
       "      <td>2018-05-26</td>\n",
       "      <td>Hugh Grant Marries For The First Time At Age 57</td>\n",
       "      <td>https://www.huffingtonpost.com/entry/hugh-gran...</td>\n",
       "      <td>The actor and his longtime girlfriend Anna Ebe...</td>\n",
       "    </tr>\n",
       "    <tr>\n",
       "      <th>3</th>\n",
       "      <td>Ron Dicker</td>\n",
       "      <td>ENTERTAINMENT</td>\n",
       "      <td>2018-05-26</td>\n",
       "      <td>Jim Carrey Blasts 'Castrato' Adam Schiff And D...</td>\n",
       "      <td>https://www.huffingtonpost.com/entry/jim-carre...</td>\n",
       "      <td>The actor gives Dems an ass-kicking for not fi...</td>\n",
       "    </tr>\n",
       "    <tr>\n",
       "      <th>4</th>\n",
       "      <td>Ron Dicker</td>\n",
       "      <td>ENTERTAINMENT</td>\n",
       "      <td>2018-05-26</td>\n",
       "      <td>Julianna Margulies Uses Donald Trump Poop Bags...</td>\n",
       "      <td>https://www.huffingtonpost.com/entry/julianna-...</td>\n",
       "      <td>The \"Dietland\" actress said using the bags is ...</td>\n",
       "    </tr>\n",
       "  </tbody>\n",
       "</table>\n",
       "</div>"
      ],
      "text/plain": [
       "           authors       category       date  \\\n",
       "0  Melissa Jeltsen          CRIME 2018-05-26   \n",
       "1    Andy McDonald  ENTERTAINMENT 2018-05-26   \n",
       "2       Ron Dicker  ENTERTAINMENT 2018-05-26   \n",
       "3       Ron Dicker  ENTERTAINMENT 2018-05-26   \n",
       "4       Ron Dicker  ENTERTAINMENT 2018-05-26   \n",
       "\n",
       "                                            headline  \\\n",
       "0  There Were 2 Mass Shootings In Texas Last Week...   \n",
       "1  Will Smith Joins Diplo And Nicky Jam For The 2...   \n",
       "2    Hugh Grant Marries For The First Time At Age 57   \n",
       "3  Jim Carrey Blasts 'Castrato' Adam Schiff And D...   \n",
       "4  Julianna Margulies Uses Donald Trump Poop Bags...   \n",
       "\n",
       "                                                link  \\\n",
       "0  https://www.huffingtonpost.com/entry/texas-ama...   \n",
       "1  https://www.huffingtonpost.com/entry/will-smit...   \n",
       "2  https://www.huffingtonpost.com/entry/hugh-gran...   \n",
       "3  https://www.huffingtonpost.com/entry/jim-carre...   \n",
       "4  https://www.huffingtonpost.com/entry/julianna-...   \n",
       "\n",
       "                                   short_description  \n",
       "0  She left her husband. He killed their children...  \n",
       "1                           Of course it has a song.  \n",
       "2  The actor and his longtime girlfriend Anna Ebe...  \n",
       "3  The actor gives Dems an ass-kicking for not fi...  \n",
       "4  The \"Dietland\" actress said using the bags is ...  "
      ]
     },
     "execution_count": 8,
     "metadata": {},
     "output_type": "execute_result"
    }
   ],
   "source": [
    "df.head()"
   ]
  },
  {
   "cell_type": "code",
   "execution_count": 9,
   "metadata": {},
   "outputs": [
    {
     "data": {
      "text/plain": [
       "authors                      object\n",
       "category                     object\n",
       "date                 datetime64[ns]\n",
       "headline                     object\n",
       "link                         object\n",
       "short_description            object\n",
       "dtype: object"
      ]
     },
     "execution_count": 9,
     "metadata": {},
     "output_type": "execute_result"
    }
   ],
   "source": [
    "df.dtypes"
   ]
  },
  {
   "cell_type": "code",
   "execution_count": 10,
   "metadata": {},
   "outputs": [
    {
     "data": {
      "text/plain": [
       "<matplotlib.axes._subplots.AxesSubplot at 0x24f5aca3eb8>"
      ]
     },
     "execution_count": 10,
     "metadata": {},
     "output_type": "execute_result"
    },
    {
     "data": {
      "image/png": "[encoded data removed]",
      "text/plain": [
       "<matplotlib.figure.Figure at 0x24f5aca3860>"
      ]
     },
     "metadata": {},
     "output_type": "display_data"
    }
   ],
   "source": [
    "#Plot the data by date\n",
    "df.date.hist(figsize = (12,6), color = 'grey')"
   ]
  },
  {
   "cell_type": "code",
   "execution_count": 11,
   "metadata": {},
   "outputs": [
    {
     "data": {
      "text/plain": [
       "<matplotlib.axes._subplots.AxesSubplot at 0x24f5acedfd0>"
      ]
     },
     "execution_count": 11,
     "metadata": {},
     "output_type": "execute_result"
    },
    {
     "data": {
      "image/png": "[encoded data removed]",
      "text/plain": [
       "<matplotlib.figure.Figure at 0x24f5ad089b0>"
      ]
     },
     "metadata": {},
     "output_type": "display_data"
    }
   ],
   "source": [
    "#Bar plot of the labels by category \n",
    "categoryCount = df['category'].value_counts()\n",
    "categoryCount.plot.bar(figsize = (10,5))"
   ]
  },
  {
   "cell_type": "markdown",
   "metadata": {
    "collapsed": true
   },
   "source": [
    "#### Combine description and headline into a single field for classification"
   ]
  },
  {
   "cell_type": "code",
   "execution_count": 12,
   "metadata": {
    "collapsed": true
   },
   "outputs": [],
   "source": [
    "def tokenize_url(url):\n",
    "    #remove huffpost portion\n",
    "    url = url.replace(\"https://www.huffingtonpost.com/entry/\",\"\")\n",
    "    #use regular expression to convert underscore into a space\n",
    "    url = re.sub(\"(\\W|_)+\",\" \",url)\n",
    "    return url"
   ]
  },
  {
   "cell_type": "code",
   "execution_count": 13,
   "metadata": {
    "collapsed": true
   },
   "outputs": [],
   "source": [
    "df['tokenized_url'] = df['link'].apply(lambda x:tokenize_url(x))\n",
    "\n",
    "#description + headline\n",
    "df['text_desc_headline'] = df['short_description'] + ' '+ df['headline']\n",
    "\n",
    "#description + headline + url\n",
    "df['desc_headline_url'] =  df['text_desc_headline'] + ' ' + df['tokenized_url']"
   ]
  },
  {
   "cell_type": "markdown",
   "metadata": {},
   "source": [
    "## Extract features 3 different ways: by word presence, word count, and by TF-IDF score"
   ]
  },
  {
   "cell_type": "code",
   "execution_count": 14,
   "metadata": {
    "collapsed": true
   },
   "outputs": [],
   "source": [
    "# Initiate logging\n",
    "logging.basicConfig(format='%(asctime)s : %(levelname)s : %(message)s', level=logging.INFO)\n",
    "\n",
    "def extract_features(df, field, training_data, testing_data, type = \"binary\"):\n",
    "    \"\"\"Extract features using one of three different methods\"\"\"\n",
    "    \n",
    "    logging.info(\"Extracting features and creating vocabulary...\")\n",
    "    \n",
    "    if type == \"binary\":\n",
    "        # BINARY FEATURE REPRESENTATION\n",
    "        \n",
    "        #Ignore terms that are in more than 95% of documents\n",
    "        cv= CountVectorizer(binary=True, max_df=0.95)\n",
    "        #Create dictionary from words to integer ids\n",
    "        cv.fit_transform(training_data[field].values)\n",
    "        \n",
    "        train_feature_set=cv.transform(training_data[field].values)\n",
    "        test_feature_set=cv.transform(testing_data[field].values)\n",
    "        \n",
    "        return train_feature_set, test_feature_set, cv\n",
    "    \n",
    "    elif type == \"counts\":\n",
    "        # COUNT BASED FEATURE REPRESENTATION\n",
    "        \n",
    "        #Ignore terms that are in more than 95% of documents\n",
    "        cv= CountVectorizer(binary=False, max_df=0.95)\n",
    "        #Create dictionary from words to integer ids\n",
    "        cv.fit_transform(training_data[field].values)\n",
    "        \n",
    "        train_feature_set=cv.transform(training_data[field].values)\n",
    "        test_feature_set=cv.transform(testing_data[field].values)\n",
    "        \n",
    "        return train_feature_set, test_feature_set, cv\n",
    "     \n",
    "    elif  type == \"tfidf\":\n",
    "        # TF-IDF BASED FEATURE REPRESENTATION\n",
    "        logging.info(\"tfidf transformation\")\n",
    "        #Ignore terms that are in more than 95% of documents\n",
    "        tfidf_vectorizer=TfidfVectorizer(use_idf=True, max_df=0.95)\n",
    "        #Create dictionary from words to integer ids\n",
    "        tfidf_vectorizer.fit_transform(training_data[field].values)\n",
    "        \n",
    "        train_feature_set=tfidf_vectorizer.transform(training_data[field].values)\n",
    "        test_feature_set=tfidf_vectorizer.transform(testing_data[field].values)\n",
    "        \n",
    "        return train_feature_set, test_feature_set, tfidf_vectorizer\n",
    "    \n",
    "    else:\n",
    "        logging.info(\"incorrect type\")\n",
    "        return;"
   ]
  },
  {
   "cell_type": "code",
   "execution_count": 16,
   "metadata": {
    "collapsed": true
   },
   "outputs": [],
   "source": [
    "def compute_accuracy(Y_labels, Y_preds):\n",
    "    '''Compute the accuracy of Y_preds on Y_labels'''\n",
    "    correct = 0 \n",
    "    total = len(Y_labels)\n",
    "    \n",
    "    for i in range(0, total):\n",
    "        if Y_labels[i] ==  Y_preds[i]:\n",
    "            correct = correct + 1\n",
    "     \n",
    "    return correct/total"
   ]
  },
  {
   "cell_type": "code",
   "execution_count": 17,
   "metadata": {
    "collapsed": true
   },
   "outputs": [],
   "source": [
    "def compute_recall(Y_labels, Y_preds, mean = True):\n",
    "    '''Function to manually compute recall for each class\n",
    "    If mean == False, it returns a dataframe containing each classes recall, \n",
    "    otherwise it returns the arithmetic average of each class recall.\n",
    "    '''\n",
    "    labels = list(set(Y_preds))\n",
    "    label_count = len(labels)\n",
    "    true_pos = np.zeros(label_count)\n",
    "    false_neg = np.zeros(label_count)\n",
    " \n",
    "    #Iterate over each label, counting true positives and false positives\n",
    "    for j in range(0,label_count):\n",
    "        for i in range(0,len(Y_preds)):\n",
    "            #If label should be predicted\n",
    "            if Y_labels[i] == labels[j]:\n",
    "                #True positive\n",
    "                if Y_preds[i] == labels[j]:\n",
    "                    true_pos[j] = true_pos[j]+1\n",
    "                #False Negative\n",
    "                else:\n",
    "                    false_neg[j] = false_neg[j] + 1\n",
    "    \n",
    "    # compute the recall for each class\n",
    "    recall = true_pos/(false_neg +true_pos)\n",
    "    \n",
    "    #Return the mean of each labels recall\n",
    "    if mean == True:\n",
    "        return sum(recall)/label_count\n",
    "    #Return dataframe with class labels and their recall values\n",
    "    else:\n",
    "        return pd.DataFrame({'Labels':labels,'Recall':recall})"
   ]
  },
  {
   "cell_type": "code",
   "execution_count": 18,
   "metadata": {
    "collapsed": true
   },
   "outputs": [],
   "source": [
    "def compute_precision(Y_labels, Y_preds, mean = True):\n",
    "    '''Function to manually compute precision for each class\n",
    "    If mean == False, it returns a dataframe containing each classes precision, \n",
    "    otherwise it returns the arithmetic average of each class precision.\n",
    "    '''\n",
    "    labels = list(set(Y_preds))\n",
    "    label_count = len(labels)\n",
    "    true_pos = np.zeros(label_count)\n",
    "    false_pos = np.zeros(label_count)\n",
    " \n",
    "    #Iterate over each label, counting true positives and false positives\n",
    "    for j in range(0,label_count):\n",
    "        for i in range(0,len(Y_preds)):\n",
    "            #If label is predicted\n",
    "            if Y_preds[i] == labels[j]:\n",
    "                #True positive\n",
    "                if Y_labels[i] == labels[j]:\n",
    "                    true_pos[j] = true_pos[j]+1\n",
    "                #False Positive\n",
    "                else:\n",
    "                    false_pos[j] = false_pos[j] + 1\n",
    "    \n",
    "    # compute the recall for each class\n",
    "    precision = true_pos/(false_pos+true_pos)\n",
    "    \n",
    "    #Return the mean of each labels recall\n",
    "    if mean == True:\n",
    "        return sum(precision)/label_count\n",
    "    #Return dataframe with class labels and their recall values\n",
    "    else:\n",
    "        return pd.DataFrame({'Labels':labels,'Precision':precision})"
   ]
  },
  {
   "cell_type": "code",
   "execution_count": 19,
   "metadata": {
    "collapsed": true
   },
   "outputs": [],
   "source": [
    "def compute_f1(Y_labels, Y_preds, mean = True):\n",
    "    '''Manually computes the f1 score for each class.\n",
    "    If mean == False, it returns a dataframe containing each classes f1 score, \n",
    "    otherwise it returns the arithmetic average of each class f1.\n",
    "    '''\n",
    "    \n",
    "    recall = compute_recall(Y_labels, Y_preds, False)\n",
    "    precision = compute_precision(Y_labels, Y_preds, False)\n",
    "    \n",
    "    #Combine recall and precision dataframes\n",
    "    f1 = pd.merge(recall, precision)\n",
    "    \n",
    "    #Add new column for f1 score\n",
    "    f1['f1'] =  2*f1['Precision']*f1['Recall']/(f1['Precision']+f1['Recall'])\n",
    "    \n",
    "    #Return harmonic mean of precision and recall\n",
    "    if mean == True:\n",
    "        return sum(f1['f1'])/len(f1.index)\n",
    "    #Return dataframe with class labels and their precision, recall, and f1 scores\n",
    "    else:\n",
    "        return f1"
   ]
  },
  {
   "cell_type": "code",
   "execution_count": 20,
   "metadata": {
    "collapsed": true
   },
   "outputs": [],
   "source": [
    "#Double check recall, precision, and f1 working correctly\n",
    "from sklearn.metrics import f1_score\n",
    "#f1_score(Y_test, preds_test, average = 'macro')\n",
    "from sklearn.metrics import recall_score\n",
    "#recall_score(Y_test, preds_test, average = 'macro')\n",
    "from sklearn.metrics import precision_score\n",
    "#precision_score(Y_test, preds_test, average = 'macro')"
   ]
  },
  {
   "cell_type": "code",
   "execution_count": 21,
   "metadata": {
    "collapsed": true
   },
   "outputs": [],
   "source": [
    "def train_model(df, field = 'short_description', feature_rep = 'binary', max_iterations =1000):\n",
    "    ''''''\n",
    "    logging.info(\"Starting model training...\")\n",
    "    \n",
    "    # Get a train-test split with a preset random seed\n",
    "    training_data, testing_data = train_test_split(df, random_state = 1000)\n",
    "    \n",
    "    # Get the labels as an array\n",
    "    Y_train = training_data['category'].values\n",
    "    Y_test = testing_data['category'].values\n",
    "    \n",
    "    # Get the features using our function extract_features\n",
    "    X_train, X_test, feature_transformer = extract_features(df, field, training_data, testing_data, type = feature_rep)\n",
    "    \n",
    "    #Initialize logistic Regression classifier using sklearn\n",
    "    logging.info(\"Training a Logistic Regression Model...\")\n",
    "    scikit_log_reg = LogisticRegression(verbose = 1, solver = 'liblinear', random_state = 0, C = 5, penalty = 'l2', max_iter = max_iterations) \n",
    "    model = scikit_log_reg.fit(X_train, Y_train)\n",
    "    logging.info('Model fit complete.') \n",
    "    \n",
    "    #Get predictions for test set\n",
    "    test_preds = model.predict(X_test)\n",
    "    \n",
    "    logging.info('Starting Evaluation...')\n",
    "    accuracy = compute_accuracy( Y_test, test_preds)\n",
    "    f1_score = compute_f1(Y_test, test_preds, False)\n",
    "    \n",
    "    logging.info(\"Done training and evaluation.\")\n",
    "    return model, feature_transformer, accuracy, f1_score"
   ]
  },
  {
   "cell_type": "code",
   "execution_count": 172,
   "metadata": {},
   "outputs": [
    {
     "name": "stderr",
     "output_type": "stream",
     "text": [
      "2020-04-18 20:57:03,002 : INFO : Extracting features and creating vocabulary...\n",
      "2020-04-18 20:57:08,135 : INFO : Training a Logistic Regression Model...\n"
     ]
    },
    {
     "name": "stdout",
     "output_type": "stream",
     "text": [
      "[LibLinear]"
     ]
    },
    {
     "name": "stderr",
     "output_type": "stream",
     "text": [
      "2020-04-18 21:02:53,178 : INFO : Model fit complete.\n"
     ]
    }
   ],
   "source": [
    "#training_data, testing_data = train_test_split(df, random_state = 1000)\n",
    "\n",
    "# Get the labels as an array\n",
    "#Y_train = training_data['category'].values\n",
    "#Y_test = testing_data['category'].values\n",
    "\n",
    "# Get the features using our function extract_features\n",
    "#X_train, X_test, feature_transformer = extract_features(df, field, training_data, testing_data, type = feature_rep)\n",
    "\n",
    "#Initialize logistic Regression classifier using sklearn\n",
    "#logging.info(\"Training a Logistic Regression Model...\")\n",
    "#scikit_log_reg = LogisticRegression(verbose = 1, solver = 'liblinear', random_state = 0, C = 5, penalty = 'l2', max_iter = max_iterations) \n",
    "#model = scikit_log_reg.fit(X_train, Y_train)\n",
    "#logging.info('Model fit complete.') "
   ]
  },
  {
   "cell_type": "code",
   "execution_count": 186,
   "metadata": {},
   "outputs": [
    {
     "name": "stderr",
     "output_type": "stream",
     "text": [
      "2020-04-18 21:18:20,029 : INFO : Starting Evaluation...\n"
     ]
    }
   ],
   "source": [
    " #Get predictions for test set\n",
    "#test_preds = model.predict(X_test)\n",
    "    \n",
    "#logging.info('Starting Evaluation...')\n",
    "#accuracy = compute_accuracy( Y_test, test_preds)\n",
    "#f1_score = compute_f1(Y_test, test_preds)"
   ]
  },
  {
   "cell_type": "code",
   "execution_count": 188,
   "metadata": {},
   "outputs": [
    {
     "data": {
      "text/plain": [
       "0.27990836933190194"
      ]
     },
     "execution_count": 188,
     "metadata": {},
     "output_type": "execute_result"
    }
   ],
   "source": [
    "#f1_score"
   ]
  },
  {
   "cell_type": "markdown",
   "metadata": {},
   "source": [
    "# Train a single Model"
   ]
  },
  {
   "cell_type": "markdown",
   "metadata": {},
   "source": [
    "### Model 1 - Binary Features with description only "
   ]
  },
  {
   "cell_type": "code",
   "execution_count": 176,
   "metadata": {},
   "outputs": [
    {
     "name": "stderr",
     "output_type": "stream",
     "text": [
      "2020-04-18 21:05:08,847 : INFO : Starting model training...\n",
      "2020-04-18 21:05:08,916 : INFO : Extracting features and creating vocabulary...\n",
      "2020-04-18 21:05:14,010 : INFO : Training a Logistic Regression Model...\n"
     ]
    },
    {
     "name": "stdout",
     "output_type": "stream",
     "text": [
      "[LibLinear]"
     ]
    },
    {
     "name": "stderr",
     "output_type": "stream",
     "text": [
      "2020-04-18 21:11:01,366 : INFO : Model fit complete.\n",
      "2020-04-18 21:11:01,416 : INFO : Starting Evaluation...\n",
      "2020-04-18 21:11:02,061 : INFO : Done training and evaluation.\n"
     ]
    }
   ],
   "source": [
    "field = 'short_description'\n",
    "feature_rep = 'binary'    \n",
    "\n",
    "model, transformer, accuracy, f1 = train_model(df, field, feature_rep)"
   ]
  },
  {
   "cell_type": "code",
   "execution_count": 183,
   "metadata": {},
   "outputs": [
    {
     "name": "stdout",
     "output_type": "stream",
     "text": [
      "\n",
      " Accuracy = 0.4160592663400645; f1 = 0.27990836933190194\n"
     ]
    }
   ],
   "source": [
    "print(\"\\n Accuracy = {0}; f1 = {1}\".format(accuracy, sum(f1['f1'])/len(f1.index)))"
   ]
  },
  {
   "cell_type": "code",
   "execution_count": 216,
   "metadata": {},
   "outputs": [
    {
     "data": {
      "text/plain": [
       "<matplotlib.axes._subplots.AxesSubplot at 0x281c3559550>"
      ]
     },
     "execution_count": 216,
     "metadata": {},
     "output_type": "execute_result"
    },
    {
     "data": {
      "image/png": "[encoded data removed]",
      "text/plain": [
       "<matplotlib.figure.Figure at 0x281c3537240>"
      ]
     },
     "metadata": {},
     "output_type": "display_data"
    }
   ],
   "source": [
    "#Convert categoryCount to a Dataframe for merging\n",
    "category_count = pd.DataFrame({'Labels': categoryCount.index, 'Count': categoryCount.values}) \n",
    "\n",
    "#Merge the f1 and category_count dataframes\n",
    "f1_count_df = pd.merge(f1, category_count)\n",
    "\n",
    "#Order the dataframe by the article count for plotting\n",
    "f1_count_df = f1_count_df.sort_values(by='Count', ascending = False)\n",
    "\n",
    "#Plot the f1 score, ordered from most to least prevalent categories\n",
    "f1_count_df.plot(kind='bar', x ='Labels', y = 'f1', figsize=(8,8))"
   ]
  },
  {
   "cell_type": "markdown",
   "metadata": {
    "collapsed": true
   },
   "source": [
    "## Model 2 - TF-IDF with description only"
   ]
  },
  {
   "cell_type": "code",
   "execution_count": 16,
   "metadata": {},
   "outputs": [
    {
     "name": "stderr",
     "output_type": "stream",
     "text": [
      "2020-04-18 21:55:54,292 : INFO : Starting model training...\n",
      "2020-04-18 21:55:54,348 : INFO : Extracting features and creating vocabulary...\n",
      "2020-04-18 21:55:54,348 : INFO : tfidf transformation\n",
      "2020-04-18 21:55:59,268 : INFO : Training a Logistic Regression Model...\n"
     ]
    },
    {
     "name": "stdout",
     "output_type": "stream",
     "text": [
      "[LibLinear]"
     ]
    },
    {
     "name": "stderr",
     "output_type": "stream",
     "text": [
      "2020-04-18 21:57:27,231 : INFO : Model fit complete.\n",
      "2020-04-18 21:57:27,281 : INFO : Starting Evaluation...\n",
      "2020-04-18 21:57:27,777 : INFO : Done training and evaluation.\n"
     ]
    }
   ],
   "source": [
    "field = 'short_description'\n",
    "feature_rep = 'tfidf'    \n",
    "\n",
    "model, transformer, accuracy, f1 = train_model(df, field, feature_rep)"
   ]
  },
  {
   "cell_type": "code",
   "execution_count": 17,
   "metadata": {},
   "outputs": [
    {
     "name": "stdout",
     "output_type": "stream",
     "text": [
      "\n",
      " Accuracy = 0.4509698490460828; f1 = 0.29887128995941925\n"
     ]
    }
   ],
   "source": [
    "print(\"\\n Accuracy = {0}; f1 = {1}\".format(accuracy, sum(f1['f1'])/len(f1.index)))"
   ]
  },
  {
   "cell_type": "code",
   "execution_count": 18,
   "metadata": {},
   "outputs": [
    {
     "data": {
      "text/plain": [
       "<matplotlib.axes._subplots.AxesSubplot at 0x212b6361e80>"
      ]
     },
     "execution_count": 18,
     "metadata": {},
     "output_type": "execute_result"
    },
    {
     "data": {
      "image/png": "[encoded data removed]",
      "text/plain": [
       "<matplotlib.figure.Figure at 0x212b6370ba8>"
      ]
     },
     "metadata": {},
     "output_type": "display_data"
    }
   ],
   "source": [
    "#Convert categoryCount to a Dataframe for merging\n",
    "category_count = pd.DataFrame({'Labels': categoryCount.index, 'Count': categoryCount.values}) \n",
    "\n",
    "#Merge the f1 and category_count dataframes\n",
    "f1_count_df = pd.merge(f1, category_count)\n",
    "\n",
    "#Order the dataframe by the article count for plotting\n",
    "f1_count_df = f1_count_df.sort_values(by='Count', ascending = False)\n",
    "\n",
    "#Plot the f1 score, ordered from most to least prevalent categories\n",
    "f1_count_df.plot(kind='bar', x ='Labels', y = 'f1', figsize=(8,8))"
   ]
  },
  {
   "cell_type": "markdown",
   "metadata": {},
   "source": [
    "## Model 3 - TF-IDF  with description, headline"
   ]
  },
  {
   "cell_type": "code",
   "execution_count": 20,
   "metadata": {},
   "outputs": [
    {
     "name": "stderr",
     "output_type": "stream",
     "text": [
      "2020-04-18 22:02:59,747 : INFO : Starting model training...\n",
      "2020-04-18 22:02:59,857 : INFO : Extracting features and creating vocabulary...\n",
      "2020-04-18 22:02:59,858 : INFO : tfidf transformation\n",
      "2020-04-18 22:03:07,052 : INFO : Training a Logistic Regression Model...\n"
     ]
    },
    {
     "name": "stdout",
     "output_type": "stream",
     "text": [
      "[LibLinear]"
     ]
    },
    {
     "name": "stderr",
     "output_type": "stream",
     "text": [
      "2020-04-18 22:04:46,408 : INFO : Model fit complete.\n",
      "2020-04-18 22:04:46,467 : INFO : Starting Evaluation...\n",
      "2020-04-18 22:04:47,024 : INFO : Done training and evaluation.\n"
     ]
    }
   ],
   "source": [
    "field = 'text_desc_headline'\n",
    "feature_rep = 'tfidf'    \n",
    "\n",
    "model, transformer, accuracy, f1 = train_model(df, field, feature_rep)"
   ]
  },
  {
   "cell_type": "code",
   "execution_count": 21,
   "metadata": {},
   "outputs": [
    {
     "name": "stdout",
     "output_type": "stream",
     "text": [
      "\n",
      " Accuracy = 0.6143904090492691; f1 = 0.48654564980132997\n"
     ]
    }
   ],
   "source": [
    "print(\"\\n Accuracy = {0}; f1 = {1}\".format(accuracy, sum(f1['f1'])/len(f1.index)))"
   ]
  },
  {
   "cell_type": "code",
   "execution_count": 22,
   "metadata": {},
   "outputs": [
    {
     "data": {
      "text/plain": [
       "<matplotlib.axes._subplots.AxesSubplot at 0x212b6347710>"
      ]
     },
     "execution_count": 22,
     "metadata": {},
     "output_type": "execute_result"
    },
    {
     "data": {
      "image/png": "[encoded data removed]",
      "text/plain": [
       "<matplotlib.figure.Figure at 0x212b6359630>"
      ]
     },
     "metadata": {},
     "output_type": "display_data"
    }
   ],
   "source": [
    "#Convert categoryCount to a Dataframe for merging\n",
    "category_count = pd.DataFrame({'Labels': categoryCount.index, 'Count': categoryCount.values}) \n",
    "\n",
    "#Merge the f1 and category_count dataframes\n",
    "f1_count_df = pd.merge(f1, category_count)\n",
    "\n",
    "#Order the dataframe by the article count for plotting\n",
    "f1_count_df = f1_count_df.sort_values(by='Count', ascending = False)\n",
    "\n",
    "#Plot the f1 score, ordered from most to least prevalent categories\n",
    "f1_count_df.plot(kind='bar', x ='Labels', y = 'f1', figsize=(8,8))"
   ]
  },
  {
   "cell_type": "markdown",
   "metadata": {},
   "source": [
    "## Model 4 - TF-IDF with url, headline, and description"
   ]
  },
  {
   "cell_type": "code",
   "execution_count": 39,
   "metadata": {},
   "outputs": [
    {
     "name": "stderr",
     "output_type": "stream",
     "text": [
      "2020-04-18 22:13:19,730 : INFO : Starting model training...\n",
      "2020-04-18 22:13:19,870 : INFO : Extracting features and creating vocabulary...\n",
      "2020-04-18 22:13:19,871 : INFO : tfidf transformation\n",
      "2020-04-18 22:13:29,065 : INFO : Training a Logistic Regression Model...\n"
     ]
    },
    {
     "name": "stdout",
     "output_type": "stream",
     "text": [
      "[LibLinear]"
     ]
    },
    {
     "name": "stderr",
     "output_type": "stream",
     "text": [
      "2020-04-18 22:15:16,725 : INFO : Model fit complete.\n",
      "2020-04-18 22:15:16,792 : INFO : Starting Evaluation...\n",
      "2020-04-18 22:15:17,256 : INFO : Done training and evaluation.\n"
     ]
    }
   ],
   "source": [
    "field = 'desc_headline_url'\n",
    "feature_rep = 'tfidf'    \n",
    "\n",
    "model, transformer, accuracy, f1 = train_model(df, field, feature_rep)"
   ]
  },
  {
   "cell_type": "code",
   "execution_count": 40,
   "metadata": {},
   "outputs": [
    {
     "name": "stdout",
     "output_type": "stream",
     "text": [
      "\n",
      " Accuracy = 0.6672043653164456; f1 = 0.558007056329061\n"
     ]
    }
   ],
   "source": [
    "print(\"\\n Accuracy = {0}; f1 = {1}\".format(accuracy, sum(f1['f1'])/len(f1.index)))"
   ]
  },
  {
   "cell_type": "code",
   "execution_count": 41,
   "metadata": {},
   "outputs": [
    {
     "data": {
      "text/plain": [
       "<matplotlib.axes._subplots.AxesSubplot at 0x212b76dad68>"
      ]
     },
     "execution_count": 41,
     "metadata": {},
     "output_type": "execute_result"
    },
    {
     "data": {
      "image/png": "[encoded data removed]",
      "text/plain": [
       "<matplotlib.figure.Figure at 0x212b76e58d0>"
      ]
     },
     "metadata": {},
     "output_type": "display_data"
    }
   ],
   "source": [
    "#Convert categoryCount to a Dataframe for merging\n",
    "category_count = pd.DataFrame({'Labels': categoryCount.index, 'Count': categoryCount.values}) \n",
    "\n",
    "#Merge the f1 and category_count dataframes\n",
    "f1_count_df = pd.merge(f1, category_count)\n",
    "\n",
    "#Order the dataframe by the article count for plotting\n",
    "f1_count_df = f1_count_df.sort_values(by='Count', ascending = False)\n",
    "\n",
    "#Plot the f1 score, ordered from most to least prevalent categories\n",
    "f1_count_df.plot(kind='bar', x ='Labels', y = 'f1', figsize=(8,8))"
   ]
  },
  {
   "cell_type": "markdown",
   "metadata": {
    "collapsed": true
   },
   "source": [
    "## Compare multiple model types"
   ]
  },
  {
   "cell_type": "code",
   "execution_count": 22,
   "metadata": {},
   "outputs": [
    {
     "name": "stderr",
     "output_type": "stream",
     "text": [
      "2020-04-19 14:33:05,262 : INFO : Starting model training...\n",
      "2020-04-19 14:33:05,395 : INFO : Extracting features and creating vocabulary...\n",
      "2020-04-19 14:33:14,041 : INFO : Training a Logistic Regression Model...\n"
     ]
    },
    {
     "name": "stdout",
     "output_type": "stream",
     "text": [
      "[LibLinear]"
     ]
    },
    {
     "name": "stderr",
     "output_type": "stream",
     "text": [
      "2020-04-19 14:39:59,912 : INFO : Model fit complete.\n",
      "2020-04-19 14:39:59,982 : INFO : Starting Evaluation...\n",
      "2020-04-19 14:40:00,522 : INFO : Done training and evaluation.\n",
      "2020-04-19 14:40:00,560 : INFO : Model Completed\n",
      "2020-04-19 14:40:00,561 : INFO : Starting model training...\n",
      "2020-04-19 14:40:00,641 : INFO : Extracting features and creating vocabulary...\n",
      "2020-04-19 14:40:10,106 : INFO : Training a Logistic Regression Model...\n"
     ]
    },
    {
     "name": "stdout",
     "output_type": "stream",
     "text": [
      "[LibLinear]"
     ]
    },
    {
     "name": "stderr",
     "output_type": "stream",
     "text": [
      "2020-04-19 14:49:27,057 : INFO : Model fit complete.\n",
      "2020-04-19 14:49:27,138 : INFO : Starting Evaluation...\n",
      "2020-04-19 14:49:27,580 : INFO : Done training and evaluation.\n",
      "2020-04-19 14:49:27,627 : INFO : Model Completed\n",
      "2020-04-19 14:49:27,628 : INFO : Starting model training...\n",
      "2020-04-19 14:49:27,698 : INFO : Extracting features and creating vocabulary...\n",
      "2020-04-19 14:49:27,698 : INFO : tfidf transformation\n",
      "2020-04-19 14:49:36,974 : INFO : Training a Logistic Regression Model...\n"
     ]
    },
    {
     "name": "stdout",
     "output_type": "stream",
     "text": [
      "[LibLinear]"
     ]
    },
    {
     "name": "stderr",
     "output_type": "stream",
     "text": [
      "2020-04-19 14:51:21,294 : INFO : Model fit complete.\n",
      "2020-04-19 14:51:21,356 : INFO : Starting Evaluation...\n",
      "2020-04-19 14:51:21,828 : INFO : Done training and evaluation.\n",
      "2020-04-19 14:51:21,864 : INFO : Model Completed\n",
      "2020-04-19 14:51:21,865 : INFO : Starting model training...\n",
      "2020-04-19 14:51:21,937 : INFO : Extracting features and creating vocabulary...\n",
      "2020-04-19 14:51:28,634 : INFO : Training a Logistic Regression Model...\n"
     ]
    },
    {
     "name": "stdout",
     "output_type": "stream",
     "text": [
      "[LibLinear]"
     ]
    },
    {
     "name": "stderr",
     "output_type": "stream",
     "text": [
      "2020-04-19 14:57:01,024 : INFO : Model fit complete.\n",
      "2020-04-19 14:57:01,081 : INFO : Starting Evaluation...\n",
      "2020-04-19 14:57:01,527 : INFO : Done training and evaluation.\n",
      "2020-04-19 14:57:01,574 : INFO : Model Completed\n",
      "2020-04-19 14:57:01,575 : INFO : Starting model training...\n",
      "2020-04-19 14:57:01,646 : INFO : Extracting features and creating vocabulary...\n",
      "2020-04-19 14:57:08,289 : INFO : Training a Logistic Regression Model...\n"
     ]
    },
    {
     "name": "stdout",
     "output_type": "stream",
     "text": [
      "[LibLinear]"
     ]
    },
    {
     "name": "stderr",
     "output_type": "stream",
     "text": [
      "2020-04-19 15:06:20,073 : INFO : Model fit complete.\n",
      "2020-04-19 15:06:20,148 : INFO : Starting Evaluation...\n",
      "2020-04-19 15:06:20,648 : INFO : Done training and evaluation.\n",
      "2020-04-19 15:06:20,690 : INFO : Model Completed\n",
      "2020-04-19 15:06:20,691 : INFO : Starting model training...\n",
      "2020-04-19 15:06:20,762 : INFO : Extracting features and creating vocabulary...\n",
      "2020-04-19 15:06:20,762 : INFO : tfidf transformation\n",
      "2020-04-19 15:06:27,996 : INFO : Training a Logistic Regression Model...\n"
     ]
    },
    {
     "name": "stdout",
     "output_type": "stream",
     "text": [
      "[LibLinear]"
     ]
    },
    {
     "name": "stderr",
     "output_type": "stream",
     "text": [
      "2020-04-19 15:08:03,591 : INFO : Model fit complete.\n",
      "2020-04-19 15:08:03,651 : INFO : Starting Evaluation...\n",
      "2020-04-19 15:08:04,258 : INFO : Done training and evaluation.\n",
      "2020-04-19 15:08:04,286 : INFO : Model Completed\n",
      "2020-04-19 15:08:04,287 : INFO : Starting model training...\n",
      "2020-04-19 15:08:04,355 : INFO : Extracting features and creating vocabulary...\n",
      "2020-04-19 15:08:09,074 : INFO : Training a Logistic Regression Model...\n"
     ]
    },
    {
     "name": "stdout",
     "output_type": "stream",
     "text": [
      "[LibLinear]"
     ]
    },
    {
     "name": "stderr",
     "output_type": "stream",
     "text": [
      "2020-04-19 15:14:09,704 : INFO : Model fit complete.\n",
      "2020-04-19 15:14:09,761 : INFO : Starting Evaluation...\n",
      "2020-04-19 15:14:10,288 : INFO : Done training and evaluation.\n",
      "2020-04-19 15:14:10,327 : INFO : Model Completed\n",
      "2020-04-19 15:14:10,329 : INFO : Starting model training...\n",
      "2020-04-19 15:14:10,403 : INFO : Extracting features and creating vocabulary...\n",
      "2020-04-19 15:14:15,248 : INFO : Training a Logistic Regression Model...\n"
     ]
    },
    {
     "name": "stdout",
     "output_type": "stream",
     "text": [
      "[LibLinear]"
     ]
    },
    {
     "name": "stderr",
     "output_type": "stream",
     "text": [
      "2020-04-19 15:23:04,527 : INFO : Model fit complete.\n",
      "2020-04-19 15:23:04,577 : INFO : Starting Evaluation...\n",
      "2020-04-19 15:23:05,077 : INFO : Done training and evaluation.\n",
      "2020-04-19 15:23:05,118 : INFO : Model Completed\n",
      "2020-04-19 15:23:05,119 : INFO : Starting model training...\n",
      "2020-04-19 15:23:05,191 : INFO : Extracting features and creating vocabulary...\n",
      "2020-04-19 15:23:05,192 : INFO : tfidf transformation\n",
      "2020-04-19 15:23:10,279 : INFO : Training a Logistic Regression Model...\n"
     ]
    },
    {
     "name": "stdout",
     "output_type": "stream",
     "text": [
      "[LibLinear]"
     ]
    },
    {
     "name": "stderr",
     "output_type": "stream",
     "text": [
      "2020-04-19 15:24:38,409 : INFO : Model fit complete.\n",
      "2020-04-19 15:24:38,461 : INFO : Starting Evaluation...\n",
      "2020-04-19 15:24:39,136 : INFO : Done training and evaluation.\n",
      "2020-04-19 15:24:39,163 : INFO : Model Completed\n"
     ]
    }
   ],
   "source": [
    "feature_reps = ['binary','counts','tfidf']\n",
    "fields = ['desc_headline_url','text_desc_headline','short_description']\n",
    "\n",
    "\n",
    "results = []\n",
    "#Loop over fields and feature_reps, creating a model within each loop\n",
    "for field in fields:\n",
    "    for feature_rep in feature_reps:\n",
    "        model, transformer, acc, f1 = train_model(df, field, feature_rep)\n",
    "        logging.info(\"Model Completed\")\n",
    "        #Collapse f1 score\n",
    "        f1 = sum(f1['f1'])/len(f1.index)\n",
    "        results.append([field, feature_rep, acc, f1])"
   ]
  },
  {
   "cell_type": "code",
   "execution_count": 26,
   "metadata": {},
   "outputs": [
    {
     "data": {
      "text/html": [
       "<div>\n",
       "<style>\n",
       "    .dataframe thead tr:only-child th {\n",
       "        text-align: right;\n",
       "    }\n",
       "\n",
       "    .dataframe thead th {\n",
       "        text-align: left;\n",
       "    }\n",
       "\n",
       "    .dataframe tbody tr th {\n",
       "        vertical-align: top;\n",
       "    }\n",
       "</style>\n",
       "<table border=\"1\" class=\"dataframe\">\n",
       "  <thead>\n",
       "    <tr style=\"text-align: right;\">\n",
       "      <th></th>\n",
       "      <th>text_fields</th>\n",
       "      <th>feature_representation</th>\n",
       "      <th>accuracy</th>\n",
       "      <th>f1</th>\n",
       "    </tr>\n",
       "  </thead>\n",
       "  <tbody>\n",
       "    <tr>\n",
       "      <th>5</th>\n",
       "      <td>text_desc_headline</td>\n",
       "      <td>tfidf</td>\n",
       "      <td>0.614390</td>\n",
       "      <td>0.486546</td>\n",
       "    </tr>\n",
       "    <tr>\n",
       "      <th>3</th>\n",
       "      <td>text_desc_headline</td>\n",
       "      <td>binary</td>\n",
       "      <td>0.579679</td>\n",
       "      <td>0.460599</td>\n",
       "    </tr>\n",
       "    <tr>\n",
       "      <th>4</th>\n",
       "      <td>text_desc_headline</td>\n",
       "      <td>counts</td>\n",
       "      <td>0.575676</td>\n",
       "      <td>0.455655</td>\n",
       "    </tr>\n",
       "    <tr>\n",
       "      <th>8</th>\n",
       "      <td>short_description</td>\n",
       "      <td>tfidf</td>\n",
       "      <td>0.450970</td>\n",
       "      <td>0.298871</td>\n",
       "    </tr>\n",
       "    <tr>\n",
       "      <th>6</th>\n",
       "      <td>short_description</td>\n",
       "      <td>binary</td>\n",
       "      <td>0.416059</td>\n",
       "      <td>0.279908</td>\n",
       "    </tr>\n",
       "    <tr>\n",
       "      <th>7</th>\n",
       "      <td>short_description</td>\n",
       "      <td>counts</td>\n",
       "      <td>0.413550</td>\n",
       "      <td>0.278029</td>\n",
       "    </tr>\n",
       "    <tr>\n",
       "      <th>2</th>\n",
       "      <td>desc_headline_url</td>\n",
       "      <td>tfidf</td>\n",
       "      <td>0.667204</td>\n",
       "      <td>0.558007</td>\n",
       "    </tr>\n",
       "    <tr>\n",
       "      <th>1</th>\n",
       "      <td>desc_headline_url</td>\n",
       "      <td>counts</td>\n",
       "      <td>0.642669</td>\n",
       "      <td>0.540037</td>\n",
       "    </tr>\n",
       "    <tr>\n",
       "      <th>0</th>\n",
       "      <td>desc_headline_url</td>\n",
       "      <td>binary</td>\n",
       "      <td>0.642510</td>\n",
       "      <td>0.538860</td>\n",
       "    </tr>\n",
       "  </tbody>\n",
       "</table>\n",
       "</div>"
      ],
      "text/plain": [
       "          text_fields feature_representation  accuracy        f1\n",
       "5  text_desc_headline                  tfidf  0.614390  0.486546\n",
       "3  text_desc_headline                 binary  0.579679  0.460599\n",
       "4  text_desc_headline                 counts  0.575676  0.455655\n",
       "8   short_description                  tfidf  0.450970  0.298871\n",
       "6   short_description                 binary  0.416059  0.279908\n",
       "7   short_description                 counts  0.413550  0.278029\n",
       "2   desc_headline_url                  tfidf  0.667204  0.558007\n",
       "1   desc_headline_url                 counts  0.642669  0.540037\n",
       "0   desc_headline_url                 binary  0.642510  0.538860"
      ]
     },
     "execution_count": 26,
     "metadata": {},
     "output_type": "execute_result"
    }
   ],
   "source": [
    "df_results = pd.DataFrame(results, columns = ['text_fields', 'feature_representation', 'accuracy', 'f1'])\n",
    "df_results.sort_values(by= ['text_fields', 'accuracy'], ascending = False)"
   ]
  },
  {
   "cell_type": "code",
   "execution_count": null,
   "metadata": {
    "collapsed": true
   },
   "outputs": [],
   "source": []
  },
  {
   "cell_type": "markdown",
   "metadata": {},
   "source": [
    "### Model can be used on articles from different sources"
   ]
  },
  {
   "cell_type": "code",
   "execution_count": 44,
   "metadata": {},
   "outputs": [
    {
     "data": {
      "text/plain": [
       "array(['POLITICS'], dtype=object)"
      ]
     },
     "execution_count": 44,
     "metadata": {},
     "output_type": "execute_result"
    }
   ],
   "source": [
    "#https://www.cnn.com/2020/04/18/politics/freshmen-democrats-crisis-coronavirus-congress-house/index.html\n",
    "test_features = transformer.transform([\"Baptized by fire and virus: How an historic freshmen class in Congress has been tested by constant crisis\"])\n",
    "model.predict(test_features)"
   ]
  },
  {
   "cell_type": "code",
   "execution_count": 43,
   "metadata": {},
   "outputs": [
    {
     "data": {
      "text/plain": [
       "array(['WELLNESS'], dtype=object)"
      ]
     },
     "execution_count": 43,
     "metadata": {},
     "output_type": "execute_result"
    }
   ],
   "source": [
    "#https://www.cnn.com/2020/04/18/politics/cdc-coronavirus-testing-contamination/index.html\n",
    "test_features = transformer.transform([\"Contamination in manufacturing the Centers for Disease Control and Prevention test for the coronavirus caused weeks of delays that slowed the US response to the pandemic, multiple health officials have told CNN, a problem that stemmed in part from the CDC not adhering to its own protocols, according to a US Food and Drug Administration spokesperson.\"])\n",
    "model.predict(test_features)"
   ]
  },
  {
   "cell_type": "code",
   "execution_count": null,
   "metadata": {
    "collapsed": true
   },
   "outputs": [],
   "source": [
    "def save_model(model, transformer):\n",
    "    model_path=\"../models/model.pkl\"\n",
    "    transformer_path=\"../models/transformer.pkl\"\n",
    "    \n",
    "    # we need to save both the transformer -> to encode a document and the model itself to make predictions based on the weight vectors \n",
    "    pickle.dump(model, open(model_path, 'wb'))\n",
    "    pickle.dump(transformer, open(transformer_path,'wb'))\n",
    "    \n",
    "    return"
   ]
  },
  {
   "cell_type": "code",
   "execution_count": null,
   "metadata": {
    "collapsed": true
   },
   "outputs": [],
   "source": []
  }
 ],
 "metadata": {
  "kernelspec": {
   "display_name": "Python 3",
   "language": "python",
   "name": "python3"
  },
  "language_info": {
   "codemirror_mode": {
    "name": "ipython",
    "version": 3
   },
   "file_extension": ".py",
   "mimetype": "text/x-python",
   "name": "python",
   "nbconvert_exporter": "python",
   "pygments_lexer": "ipython3",
   "version": "3.7.6"
  }
 },
 "nbformat": 4,
 "nbformat_minor": 2
}
